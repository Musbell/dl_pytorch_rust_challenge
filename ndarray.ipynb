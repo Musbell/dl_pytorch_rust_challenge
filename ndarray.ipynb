{
 "cells": [
  {
   "cell_type": "code",
   "execution_count": 7,
   "id": "01d89557-e493-40dd-8196-871de77a78b1",
   "metadata": {
    "tags": []
   },
   "outputs": [],
   "source": [
    ":dep ndarray = \"0.16.1\""
   ]
  },
  {
   "cell_type": "code",
   "execution_count": 9,
   "id": "ec43a717-64c5-4f0e-ad2e-755669a26819",
   "metadata": {},
   "outputs": [
    {
     "data": {
      "text/plain": [
       "[[[0.0, 0.0, 0.0, 0.0, 0.0],\n",
       "  [0.0, 0.0, 0.0, 0.0, 0.0],\n",
       "  [0.0, 0.0, 0.0, 0.0, 0.0],\n",
       "  [0.0, 0.0, 0.0, 0.0, 0.0]],\n",
       "\n",
       " [[0.0, 0.0, 0.0, 0.0, 0.0],\n",
       "  [0.0, 0.0, 0.0, 0.0, 0.0],\n",
       "  [0.0, 0.0, 0.0, 0.0, 0.0],\n",
       "  [0.0, 0.0, 0.0, 0.0, 0.0]],\n",
       "\n",
       " [[0.0, 0.0, 0.0, 0.0, 0.0],\n",
       "  [0.0, 0.0, 0.0, 0.0, 0.0],\n",
       "  [0.0, 0.0, 0.5, 0.0, 0.0],\n",
       "  [0.0, 0.0, 0.0, 0.0, 0.0]]], shape=[3, 4, 5], strides=[20, 5, 1], layout=Cc (0x5), const ndim=3"
      ]
     },
     "execution_count": 9,
     "metadata": {},
     "output_type": "execute_result"
    }
   ],
   "source": [
    "// Create a three-dimensional f64 array, initialized with zeros\n",
    "use ndarray::Array3;\n",
    "let mut temperature = Array3::<f64>::zeros((3, 4, 5));\n",
    "// Increase the temperature in this location\n",
    "temperature[[2, 2, 2]] += 0.5;\n",
    "\n",
    "temperature"
   ]
  },
  {
   "cell_type": "code",
   "execution_count": 14,
   "id": "e68d7452-a5e7-4e95-ac92-b3840fdcad21",
   "metadata": {},
   "outputs": [
    {
     "data": {
      "text/plain": [
       "[[0.0, 0.0, 0.0, 0.0, 0.0, 0.0],\n",
       " [0.0, 0.0, 0.0, 0.0, 0.0, 0.0],\n",
       " [0.0, 0.0, 0.0, 0.0, 0.0, 0.0],\n",
       " [0.0, 0.0, 0.0, 0.0, 0.0, 0.0],\n",
       " [0.0, 0.0, 0.0, 0.0, 0.0, 0.0],\n",
       " [0.0, 0.0, 0.0, 0.0, 0.0, 0.0]], shape=[6, 6], strides=[6, 1], layout=Cc (0x5), const ndim=2"
      ]
     },
     "execution_count": 14,
     "metadata": {},
     "output_type": "execute_result"
    }
   ],
   "source": [
    "use ndarray::Array2;\n",
    "\n",
    "let mut array = Array2::<f64>::zeros((6, 6));\n",
    "\n",
    "array\n"
   ]
  },
  {
   "cell_type": "code",
   "execution_count": 17,
   "id": "544c7528-754b-48f5-b87c-ff910697cfd0",
   "metadata": {},
   "outputs": [],
   "source": [
    "use ndarray::prelude::*;\n",
    "\n",
    "let a = array![\n",
    "    [1.,2.,3.], \n",
    "    [4.,5.,6.],\n",
    "];"
   ]
  },
  {
   "cell_type": "code",
   "execution_count": 19,
   "id": "8da05d17-618f-4767-93f5-34af060abd8e",
   "metadata": {},
   "outputs": [
    {
     "data": {
      "text/plain": [
       "2"
      ]
     },
     "execution_count": 19,
     "metadata": {},
     "output_type": "execute_result"
    }
   ],
   "source": [
    "// get the number of dimensions of array a\n",
    "a.ndim()"
   ]
  },
  {
   "cell_type": "code",
   "execution_count": 21,
   "id": "29338105-99ad-4285-b8f5-cda04c3cecde",
   "metadata": {},
   "outputs": [
    {
     "data": {
      "text/plain": [
       "6"
      ]
     },
     "execution_count": 21,
     "metadata": {},
     "output_type": "execute_result"
    }
   ],
   "source": [
    "// get the number of elements in array a\n",
    "a.len()"
   ]
  },
  {
   "cell_type": "code",
   "execution_count": 23,
   "id": "c33ced0f-9e75-4563-87f3-1847c3630352",
   "metadata": {},
   "outputs": [
    {
     "data": {
      "text/plain": [
       "[2, 3]"
      ]
     },
     "execution_count": 23,
     "metadata": {},
     "output_type": "execute_result"
    }
   ],
   "source": [
    "// get the shape of array a\n",
    "a.shape()"
   ]
  },
  {
   "cell_type": "code",
   "execution_count": 25,
   "id": "8ca21da2-9259-4819-b134-a14f5907c954",
   "metadata": {},
   "outputs": [
    {
     "data": {
      "text/plain": [
       "false"
      ]
     },
     "execution_count": 25,
     "metadata": {},
     "output_type": "execute_result"
    }
   ],
   "source": [
    "// check if the array has zero elements\n",
    "a.is_empty()"
   ]
  },
  {
   "cell_type": "code",
   "execution_count": 27,
   "id": "3b14d2ab-50cd-49b1-a8b1-e2c059e1eacd",
   "metadata": {},
   "outputs": [
    {
     "data": {
      "text/plain": [
       "[[1.0, 2.0, 3.0],\n",
       " [4.0, 5.0, 6.0]], shape=[2, 3], strides=[3, 1], layout=Cc (0x5), const ndim=2"
      ]
     },
     "execution_count": 27,
     "metadata": {},
     "output_type": "execute_result"
    }
   ],
   "source": [
    "a"
   ]
  },
  {
   "cell_type": "code",
   "execution_count": 29,
   "id": "406b1a0d-5b6e-47a7-92b2-787274d59460",
   "metadata": {},
   "outputs": [
    {
     "data": {
      "text/plain": [
       "[[[0.0, 0.0, 0.0, 0.0],\n",
       "  [0.0, 0.0, 0.0, 0.0]],\n",
       "\n",
       " [[0.0, 0.0, 0.0, 0.0],\n",
       "  [0.0, 0.0, 0.0, 0.0]],\n",
       "\n",
       " [[0.0, 0.0, 0.0, 0.0],\n",
       "  [0.0, 0.0, 0.0, 0.0]]], shape=[3, 2, 4], strides=[1, 3, 6], layout=Ff (0xa), const ndim=3"
      ]
     },
     "execution_count": 29,
     "metadata": {},
     "output_type": "execute_result"
    }
   ],
   "source": [
    "use ndarray::Array;\n",
    "\n",
    "let a = Array::<f64, Ix3>::zeros((3,2,4).f());\n",
    "\n",
    "a"
   ]
  },
  {
   "cell_type": "code",
   "execution_count": 31,
   "id": "3f3a17ea-4954-464c-b4b7-ddb51bdc5aa4",
   "metadata": {},
   "outputs": [
    {
     "data": {
      "text/plain": [
       "[[[false, false, false, false],\n",
       "  [false, false, false, false]],\n",
       "\n",
       " [[false, false, false, false],\n",
       "  [false, false, false, false]],\n",
       "\n",
       " [[false, false, false, false],\n",
       "  [false, false, false, false]]], shape=[3, 2, 4], strides=[8, 4, 1], layout=Cc (0x5), const ndim=3"
      ]
     },
     "execution_count": 31,
     "metadata": {},
     "output_type": "execute_result"
    }
   ],
   "source": [
    "use ndarray::{Array, Ix3};\n",
    "\n",
    "let a = Array::<bool, Ix3>::from_elem((3, 2, 4), false);\n",
    "\n",
    "a"
   ]
  },
  {
   "cell_type": "code",
   "execution_count": 33,
   "id": "0dce8bd9-d287-410b-ae0c-2e8edce88b61",
   "metadata": {},
   "outputs": [
    {
     "data": {
      "text/plain": [
       "[0.0, 0.5, 1.0, 1.5, 2.0, 2.5, 3.0, 3.5, 4.0, 4.5, 5.0], shape=[11], strides=[1], layout=CFcf (0xf), const ndim=1"
      ]
     },
     "execution_count": 33,
     "metadata": {},
     "output_type": "execute_result"
    }
   ],
   "source": [
    "// Create a 1-D array with 11 elements with values 0., …, 5.\n",
    "let a = Array::<f64, _>::linspace(0., 5., 11);\n",
    "\n",
    "a"
   ]
  },
  {
   "cell_type": "code",
   "execution_count": 35,
   "id": "db79ca51-6d85-4553-8ec5-2df22c8bf584",
   "metadata": {},
   "outputs": [
    {
     "name": "stdout",
     "output_type": "stream",
     "text": [
      "a => [[10.0, 20.0, 30.0, 40.0]], shape=[1, 4], strides=[4, 1], layout=CFcf (0xf), const ndim=2, b => [0.0, 1.0, 2.0, 3.0], shape=[4], strides=[1], layout=CFcf (0xf), const ndim=1\n"
     ]
    },
    {
     "data": {
      "text/plain": [
       "()"
      ]
     },
     "execution_count": 35,
     "metadata": {},
     "output_type": "execute_result"
    }
   ],
   "source": [
    "// Basic operations\n",
    "use std::f64::INFINITY as inf;\n",
    "\n",
    "let a = array![\n",
    "    [10.,20.,30.,40.,],\n",
    "];\n",
    "\n",
    "\n",
    "let b = Array::range(0., 4., 1.);\n",
    "\n",
    "println!(\"a => {:?}, b => {:?}\", a, b)"
   ]
  },
  {
   "cell_type": "code",
   "execution_count": 37,
   "id": "488a5a0f-0907-4c8a-9df0-bcb54966cef0",
   "metadata": {},
   "outputs": [
    {
     "data": {
      "text/plain": [
       "[[10.0, 21.0, 32.0, 43.0]], shape=[1, 4], strides=[4, 1], layout=CFcf (0xf), const ndim=2"
      ]
     },
     "execution_count": 37,
     "metadata": {},
     "output_type": "execute_result"
    }
   ],
   "source": [
    "&a + &b"
   ]
  },
  {
   "cell_type": "code",
   "execution_count": 39,
   "id": "449f688f-9e34-4629-9a10-318f6e00b3d1",
   "metadata": {},
   "outputs": [
    {
     "data": {
      "text/plain": [
       "[[10.0, 19.0, 28.0, 37.0]], shape=[1, 4], strides=[4, 1], layout=CFcf (0xf), const ndim=2"
      ]
     },
     "execution_count": 39,
     "metadata": {},
     "output_type": "execute_result"
    }
   ],
   "source": [
    "&a - &b"
   ]
  },
  {
   "cell_type": "code",
   "execution_count": 41,
   "id": "d86e4af8-1274-4dda-8945-7bef0b054e39",
   "metadata": {},
   "outputs": [
    {
     "data": {
      "text/plain": [
       "[[0.0, 20.0, 60.0, 120.0]], shape=[1, 4], strides=[4, 1], layout=CFcf (0xf), const ndim=2"
      ]
     },
     "execution_count": 41,
     "metadata": {},
     "output_type": "execute_result"
    }
   ],
   "source": [
    "&a * &b"
   ]
  },
  {
   "cell_type": "code",
   "execution_count": 43,
   "id": "5d50b679-7a99-4747-8e6d-14e12d1152c0",
   "metadata": {},
   "outputs": [
    {
     "data": {
      "text/plain": [
       "[[inf, 20.0, 15.0, 13.333333333333334]], shape=[1, 4], strides=[4, 1], layout=CFcf (0xf), const ndim=2"
      ]
     },
     "execution_count": 43,
     "metadata": {},
     "output_type": "execute_result"
    }
   ],
   "source": [
    "&a / &b"
   ]
  },
  {
   "cell_type": "code",
   "execution_count": 45,
   "id": "8443c848-d91f-4a8d-be3c-7cbaa0256f0d",
   "metadata": {},
   "outputs": [
    {
     "data": {
      "text/plain": [
       "[5.0, 7.0, 9.0], shape=[3], strides=[1], layout=CFcf (0xf), const ndim=1"
      ]
     },
     "execution_count": 45,
     "metadata": {},
     "output_type": "execute_result"
    }
   ],
   "source": [
    "use ndarray::{aview0, aview1, arr2, Axis};\n",
    "\n",
    "let a = arr2(&[[1., 2., 3.],\n",
    "                   [4., 5., 6.]]);\n",
    "\n",
    "a.sum_axis(Axis(0))"
   ]
  },
  {
   "cell_type": "code",
   "execution_count": 47,
   "id": "a2561d76-a06c-4e61-a2ea-e39bc284a789",
   "metadata": {},
   "outputs": [
    {
     "data": {
      "text/plain": [
       "[6.0, 15.0], shape=[2], strides=[1], layout=CFcf (0xf), const ndim=1"
      ]
     },
     "execution_count": 47,
     "metadata": {},
     "output_type": "execute_result"
    }
   ],
   "source": [
    "a.sum_axis(Axis(1))"
   ]
  },
  {
   "cell_type": "code",
   "execution_count": 49,
   "id": "aa0dde45-bcc6-4c5a-a4a1-e233af13b298",
   "metadata": {},
   "outputs": [
    {
     "data": {
      "text/plain": [
       "21.0, shape=[], strides=[], layout=CFcf (0xf), const ndim=0"
      ]
     },
     "execution_count": 49,
     "metadata": {},
     "output_type": "execute_result"
    }
   ],
   "source": [
    "a.sum_axis(Axis(0)).sum_axis(Axis(0))"
   ]
  },
  {
   "cell_type": "code",
   "execution_count": 51,
   "id": "cddd7594-876b-4af4-a2f7-49bbac2fbe00",
   "metadata": {},
   "outputs": [
    {
     "data": {
      "text/plain": [
       "true"
      ]
     },
     "execution_count": 51,
     "metadata": {},
     "output_type": "execute_result"
    }
   ],
   "source": [
    "a.sum_axis(Axis(0)) == aview1(&[5., 7., 9.]) &&\n",
    "a.sum_axis(Axis(1)) == aview1(&[6., 15.]) &&\n",
    "\n",
    "a.sum_axis(Axis(0)).sum_axis(Axis(0)) == aview0(&21.) &&\n",
    "a.sum_axis(Axis(0)).sum_axis(Axis(0)) == aview0(&a.sum())"
   ]
  },
  {
   "cell_type": "code",
   "execution_count": 53,
   "id": "68ca4c27-e7e6-47af-a01c-6d8b36fc72bb",
   "metadata": {},
   "outputs": [],
   "source": [
    "let a = array![\n",
    "                [10.,20.,30., 40.,], \n",
    "            ];\n",
    "let b = Array::range(0., 4., 1.);"
   ]
  },
  {
   "cell_type": "code",
   "execution_count": 55,
   "id": "9fc7b6c5-d6dc-47ce-ad1b-0afc4c00c8d1",
   "metadata": {},
   "outputs": [
    {
     "data": {
      "text/plain": [
       "[1, 4]"
      ]
     },
     "execution_count": 55,
     "metadata": {},
     "output_type": "execute_result"
    }
   ],
   "source": [
    "&a.shape()"
   ]
  },
  {
   "cell_type": "code",
   "execution_count": 57,
   "id": "cf84fd1c-8041-4be1-8795-2ef7ff9e0ff2",
   "metadata": {},
   "outputs": [
    {
     "data": {
      "text/plain": [
       "[4]"
      ]
     },
     "execution_count": 57,
     "metadata": {},
     "output_type": "execute_result"
    }
   ],
   "source": [
    "&b.shape()"
   ]
  },
  {
   "cell_type": "code",
   "execution_count": 59,
   "id": "06878905-bc3a-48a2-bf9e-5239e822778f",
   "metadata": {},
   "outputs": [
    {
     "data": {
      "text/plain": [
       "[[0.0],\n",
       " [1.0],\n",
       " [2.0],\n",
       " [3.0]], shape=[4, 1], strides=[1, 1], layout=CFcf (0xf), const ndim=2"
      ]
     },
     "execution_count": 59,
     "metadata": {},
     "output_type": "execute_result"
    }
   ],
   "source": [
    "// reshape b to shape [4, 1]\n",
    "let b = b.into_shape_with_order((4, 1)).unwrap();\n",
    "\n",
    "b"
   ]
  },
  {
   "cell_type": "code",
   "execution_count": 61,
   "id": "dffa8094-cfc3-4435-ae97-37be6c538888",
   "metadata": {},
   "outputs": [
    {
     "data": {
      "text/plain": [
       "[4, 1]"
      ]
     },
     "execution_count": 61,
     "metadata": {},
     "output_type": "execute_result"
    }
   ],
   "source": [
    "&b.shape()"
   ]
  },
  {
   "cell_type": "code",
   "execution_count": 63,
   "id": "a2b3679a-86bf-4ca0-bbfd-d39cf9fe7036",
   "metadata": {},
   "outputs": [
    {
     "data": {
      "text/plain": [
       "[[200.0]], shape=[1, 1], strides=[1, 1], layout=CFcf (0xf), const ndim=2"
      ]
     },
     "execution_count": 63,
     "metadata": {},
     "output_type": "execute_result"
    }
   ],
   "source": [
    "a.dot(&b)"
   ]
  },
  {
   "cell_type": "code",
   "execution_count": 65,
   "id": "196a9fdf-36ba-4b27-90a1-b5f289b473ec",
   "metadata": {},
   "outputs": [
    {
     "data": {
      "text/plain": [
       "[[0.0, 10.0, 20.0, 30.0],\n",
       " [0.0, 20.0, 40.0, 60.0],\n",
       " [0.0, 30.0, 60.0, 90.0],\n",
       " [0.0, 40.0, 80.0, 120.0]], shape=[4, 4], strides=[1, 4], layout=Ff (0xa), const ndim=2"
      ]
     },
     "execution_count": 65,
     "metadata": {},
     "output_type": "execute_result"
    }
   ],
   "source": [
    "a.t().dot(&b.t())"
   ]
  },
  {
   "cell_type": "code",
   "execution_count": 67,
   "id": "315bad24-de94-47a2-b5c5-572384d7fd76",
   "metadata": {},
   "outputs": [
    {
     "data": {
      "text/plain": [
       "[0.0, 1.0, 2.0, 3.0, 4.0, 5.0, 6.0, 7.0, 8.0, 9.0], shape=[10], strides=[1], layout=CFcf (0xf), const ndim=1"
      ]
     },
     "execution_count": 67,
     "metadata": {},
     "output_type": "execute_result"
    }
   ],
   "source": [
    " let a = Array::range(0., 10., 1.);\n",
    "\n",
    "a"
   ]
  },
  {
   "cell_type": "code",
   "execution_count": 69,
   "id": "d155e023-7f27-4391-9974-df9a21662b5b",
   "metadata": {},
   "outputs": [
    {
     "data": {
      "text/plain": [
       "[0.0, 1.0, 8.0, 27.0, 64.0, 125.0, 216.0, 343.0, 512.0, 729.0], shape=[10], strides=[1], layout=CFcf (0xf), const ndim=1"
      ]
     },
     "execution_count": 69,
     "metadata": {},
     "output_type": "execute_result"
    }
   ],
   "source": [
    "let mut a = a.mapv(|a: f64| a.powi(3));\n",
    "\n",
    "a"
   ]
  },
  {
   "cell_type": "code",
   "execution_count": 71,
   "id": "07bbd4d2-63d6-4adf-a94b-cf42042a2857",
   "metadata": {},
   "outputs": [
    {
     "data": {
      "text/plain": [
       "27.0"
      ]
     },
     "execution_count": 71,
     "metadata": {},
     "output_type": "execute_result"
    }
   ],
   "source": [
    "a[[3]]"
   ]
  },
  {
   "cell_type": "code",
   "execution_count": 73,
   "id": "42808ce2-45e5-4d4b-a2f5-91f5d9224a3c",
   "metadata": {},
   "outputs": [
    {
     "data": {
      "text/plain": [
       "[8.0, 27.0, 64.0], shape=[3], strides=[1], layout=CFcf (0xf), const ndim=1"
      ]
     },
     "execution_count": 73,
     "metadata": {},
     "output_type": "execute_result"
    }
   ],
   "source": [
    "a.slice(s![2..5])"
   ]
  },
  {
   "cell_type": "code",
   "execution_count": 75,
   "id": "03bc53b1-5369-4c7b-9af6-3bc52a5de740",
   "metadata": {},
   "outputs": [
    {
     "data": {
      "text/plain": [
       "[1000.0, 1.0, 1000.0, 27.0, 1000.0, 125.0, 216.0, 343.0, 512.0, 729.0], shape=[10], strides=[1], layout=CFcf (0xf), const ndim=1"
      ]
     },
     "execution_count": 75,
     "metadata": {},
     "output_type": "execute_result"
    }
   ],
   "source": [
    "a.slice_mut(s![..6;2]).fill(1000.);\n",
    "\n",
    "a"
   ]
  },
  {
   "cell_type": "code",
   "execution_count": 77,
   "id": "84e5c2a9-8e81-4260-8aef-2b27fd0b387d",
   "metadata": {},
   "outputs": [
    {
     "name": "stdout",
     "output_type": "stream",
     "text": [
      "9.999999999999998, \n",
      "1, \n",
      "9.999999999999998, \n",
      "3, \n",
      "9.999999999999998, \n",
      "4.999999999999999, \n",
      "5.999999999999999, \n",
      "6.999999999999999, \n",
      "7.999999999999999, \n",
      "8.999999999999998, \n"
     ]
    },
    {
     "data": {
      "text/plain": [
       "()"
      ]
     },
     "execution_count": 77,
     "metadata": {},
     "output_type": "execute_result"
    }
   ],
   "source": [
    "for i in a.iter() {\n",
    "    println!(\"{}, \", i.powf(1./3.))\n",
    "}"
   ]
  },
  {
   "cell_type": "code",
   "execution_count": 101,
   "id": "94b0abb9-e410-45ac-bb69-40a225b85aae",
   "metadata": {},
   "outputs": [
    {
     "data": {
      "text/plain": [
       "[[3.0, 7.0],\n",
       " [3.0, 4.0],\n",
       " [1.0, 4.0],\n",
       " [2.0, 2.0],\n",
       " [7.0, 2.0],\n",
       " [4.0, 9.0]], shape=[6, 2], strides=[2, 1], layout=Cc (0x5), const ndim=2"
      ]
     },
     "execution_count": 101,
     "metadata": {},
     "output_type": "execute_result"
    }
   ],
   "source": [
    "use std::iter::FromIterator;\n",
    "\n",
    "let a = array![\n",
    "        [3., 7., 3., 4.],\n",
    "        [1., 4., 2., 2.],\n",
    "        [7., 2., 4., 9.]];\n",
    "\n",
    "\n",
    "let b = Array::from_iter(a.iter().copied());\n",
    "\n",
    "\n",
    " let c = b.into_shape_with_order([6, 2]).unwrap(); \n",
    "\n",
    "c"
   ]
  },
  {
   "cell_type": "code",
   "execution_count": 107,
   "id": "823f21b7-e79f-4f52-b524-186706e7f12d",
   "metadata": {},
   "outputs": [],
   "source": [
    "use ndarray::{concatenate, stack, Axis};\n",
    "\n",
    "let a = array![\n",
    "        [3., 7., 8.],\n",
    "        [5., 2., 4.],\n",
    "    ];\n",
    "\n",
    "    let b = array![\n",
    "        [1., 9., 0.],\n",
    "        [5., 4., 1.],\n",
    "    ];\n"
   ]
  },
  {
   "cell_type": "code",
   "execution_count": 111,
   "id": "d369eac8-7fa1-4c55-ab96-849fd516ff68",
   "metadata": {},
   "outputs": [
    {
     "data": {
      "text/plain": [
       "[[[3.0, 7.0, 8.0],\n",
       "  [5.0, 2.0, 4.0]],\n",
       "\n",
       " [[1.0, 9.0, 0.0],\n",
       "  [5.0, 4.0, 1.0]]], shape=[2, 2, 3], strides=[6, 3, 1], layout=Cc (0x5), const ndim=3"
      ]
     },
     "execution_count": 111,
     "metadata": {},
     "output_type": "execute_result"
    }
   ],
   "source": [
    "stack![Axis(0), a, b]"
   ]
  },
  {
   "cell_type": "code",
   "execution_count": 117,
   "id": "74b8ea43-eaba-4e7a-90e1-3335571050b0",
   "metadata": {},
   "outputs": [
    {
     "data": {
      "text/plain": [
       "[[[3.0, 7.0, 8.0],\n",
       "  [1.0, 9.0, 0.0]],\n",
       "\n",
       " [[5.0, 2.0, 4.0],\n",
       "  [5.0, 4.0, 1.0]]], shape=[2, 2, 3], strides=[3, 6, 1], layout=c (0x4), const ndim=3"
      ]
     },
     "execution_count": 117,
     "metadata": {},
     "output_type": "execute_result"
    }
   ],
   "source": [
    "stack![Axis(1), a, b]"
   ]
  },
  {
   "cell_type": "code",
   "execution_count": 119,
   "id": "9f2a82c2-474c-4667-b3c2-c9f603b9e044",
   "metadata": {},
   "outputs": [
    {
     "data": {
      "text/plain": [
       "[[[3.0, 1.0],\n",
       "  [7.0, 9.0],\n",
       "  [8.0, 0.0]],\n",
       "\n",
       " [[5.0, 5.0],\n",
       "  [2.0, 4.0],\n",
       "  [4.0, 1.0]]], shape=[2, 3, 2], strides=[1, 2, 6], layout=Ff (0xa), const ndim=3"
      ]
     },
     "execution_count": 119,
     "metadata": {},
     "output_type": "execute_result"
    }
   ],
   "source": [
    "stack![Axis(2), a, b]"
   ]
  },
  {
   "cell_type": "code",
   "execution_count": 124,
   "id": "3d2e85cf-5722-4aec-b078-461754c04fb9",
   "metadata": {},
   "outputs": [
    {
     "data": {
      "text/plain": [
       "[[3.0, 7.0, 8.0],\n",
       " [5.0, 2.0, 4.0],\n",
       " [1.0, 9.0, 0.0],\n",
       " [5.0, 4.0, 1.0]], shape=[4, 3], strides=[3, 1], layout=Cc (0x5), const ndim=2"
      ]
     },
     "execution_count": 124,
     "metadata": {},
     "output_type": "execute_result"
    }
   ],
   "source": [
    " concatenate![Axis(0), a, b]"
   ]
  },
  {
   "cell_type": "code",
   "execution_count": 126,
   "id": "ad7c54b4-a6a5-43ce-bfb7-2f757a778514",
   "metadata": {},
   "outputs": [
    {
     "data": {
      "text/plain": [
       "[[3.0, 7.0, 8.0, 1.0, 9.0, 0.0],\n",
       " [5.0, 2.0, 4.0, 5.0, 4.0, 1.0]], shape=[2, 6], strides=[1, 2], layout=Ff (0xa), const ndim=2"
      ]
     },
     "execution_count": 126,
     "metadata": {},
     "output_type": "execute_result"
    }
   ],
   "source": [
    " concatenate![Axis(1), a, b]"
   ]
  },
  {
   "cell_type": "code",
   "execution_count": 148,
   "id": "0e7bf049-0fde-4fde-97c8-2d2f6236fa2d",
   "metadata": {},
   "outputs": [],
   "source": [
    "let arr = array![\n",
    "        [6., 7., 6., 9., 0., 5., 4., 0., 6., 8., 5., 2.],\n",
    "        [8., 5., 5., 7., 1., 8., 6., 7., 1., 8., 1., 0.]];\n",
    "    "
   ]
  },
  {
   "cell_type": "code",
   "execution_count": 156,
   "id": "0cb43595-1b4b-4c86-8b87-a288e85c9c05",
   "metadata": {},
   "outputs": [
    {
     "data": {
      "text/plain": [
       "([[6.0, 7.0, 6.0, 9.0, 0.0, 5.0, 4.0, 0.0, 6.0, 8.0, 5.0, 2.0]], shape=[1, 12], strides=[12, 1], layout=CFcf (0xf), const ndim=2, [[8.0, 5.0, 5.0, 7.0, 1.0, 8.0, 6.0, 7.0, 1.0, 8.0, 1.0, 0.0]], shape=[1, 12], strides=[12, 1], layout=CFcf (0xf), const ndim=2)"
      ]
     },
     "execution_count": 156,
     "metadata": {},
     "output_type": "execute_result"
    }
   ],
   "source": [
    "{\n",
    "    let (s1, s2) = arr.view().split_at(Axis(0), 1);\n",
    "\n",
    "    (s1, s2)\n",
    "}"
   ]
  },
  {
   "cell_type": "code",
   "execution_count": 158,
   "id": "c5967625-5487-4650-92e7-ee00348f68e6",
   "metadata": {},
   "outputs": [
    {
     "data": {
      "text/plain": [
       "([[6.0, 7.0, 6.0, 9.0],\n",
       " [8.0, 5.0, 5.0, 7.0]], shape=[2, 4], strides=[12, 1], layout=c (0x4), const ndim=2, [[0.0, 5.0, 4.0, 0.0, 6.0, 8.0, 5.0, 2.0],\n",
       " [1.0, 8.0, 6.0, 7.0, 1.0, 8.0, 1.0, 0.0]], shape=[2, 8], strides=[12, 1], layout=c (0x4), const ndim=2)"
      ]
     },
     "execution_count": 158,
     "metadata": {},
     "output_type": "execute_result"
    }
   ],
   "source": [
    "{\n",
    "     let (s1, s2) = a.view().split_at(Axis(1), 4);\n",
    "    (s1, s2)\n",
    "}"
   ]
  },
  {
   "cell_type": "code",
   "execution_count": 162,
   "id": "c0e27d8f-1f94-4b25-be04-670f6bdf2f3c",
   "metadata": {},
   "outputs": [
    {
     "data": {
      "text/plain": [
       "[[0.0, 1.0],\n",
       " [2.0, 3.0]], shape=[2, 2], strides=[2, 1], layout=Cc (0x5), const ndim=2"
      ]
     },
     "execution_count": 162,
     "metadata": {},
     "output_type": "execute_result"
    }
   ],
   "source": [
    "let mut a = Array::range(0., 4., 1.).into_shape_with_order([2 ,2]).unwrap();\n",
    "    let b = a.clone();\n",
    "\n",
    "b"
   ]
  },
  {
   "cell_type": "code",
   "execution_count": 192,
   "id": "5d188033-ecc0-448c-95ce-7c9c47a15bfa",
   "metadata": {},
   "outputs": [
    {
     "data": {
      "text/plain": [
       "[[[1.0, 2.0],\n",
       "  [3.0, 4.0]],\n",
       "\n",
       " [[1.0, 2.0],\n",
       "  [3.0, 4.0]],\n",
       "\n",
       " [[1.0, 2.0],\n",
       "  [3.0, 4.0]]], shape=[3, 2, 2], strides=[0, 2, 1], layout=c (0x4), const ndim=3"
      ]
     },
     "execution_count": 192,
     "metadata": {},
     "output_type": "execute_result"
    }
   ],
   "source": [
    "let a = array![\n",
    "        [1., 2.],\n",
    "        [3., 4.],\n",
    "    ];\n",
    "{\n",
    "    \n",
    "\n",
    "    let b =  a.broadcast((3, 2, 2)).unwrap();\n",
    "\n",
    "    b\n",
    "    \n",
    "}\n"
   ]
  },
  {
   "cell_type": "code",
   "execution_count": 194,
   "id": "ee51ed99-226a-4c94-b7ba-2fbebf3a4398",
   "metadata": {},
   "outputs": [
    {
     "data": {
      "text/plain": [
       "[2, 2]"
      ]
     },
     "execution_count": 194,
     "metadata": {},
     "output_type": "execute_result"
    }
   ],
   "source": [
    "a.shape()"
   ]
  }
 ],
 "metadata": {
  "kernelspec": {
   "display_name": "Rust",
   "language": "rust",
   "name": "rust"
  },
  "language_info": {
   "codemirror_mode": "rust",
   "file_extension": ".rs",
   "mimetype": "text/rust",
   "name": "Rust",
   "pygment_lexer": "rust",
   "version": ""
  }
 },
 "nbformat": 4,
 "nbformat_minor": 5
}
